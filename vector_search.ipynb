{
 "cells": [
  {
   "cell_type": "code",
   "execution_count": 20,
   "id": "3e245efb",
   "metadata": {},
   "outputs": [],
   "source": [
    "import pandas as pd\n",
    "import numpy as np\n",
    "from sentence_transformers import SentenceTransformer\n",
    "import faiss\n",
    "import pickle\n",
    "import json\n",
    "from sklearn.metrics.pairwise import cosine_similarity"
   ]
  },
  {
   "cell_type": "code",
   "execution_count": 21,
   "id": "5c3e7640",
   "metadata": {},
   "outputs": [
    {
     "name": "stdout",
     "output_type": "stream",
     "text": [
      "Loaded 5197 books\n"
     ]
    }
   ],
   "source": [
    "# Load your CSV file\n",
    "df = pd.read_csv(\"books_cleaned.csv\")\n",
    "df['description'] = df['description'].fillna('')\n",
    "df['isbn13'] = df['isbn13'].astype(str)\n",
    "df_clean = df[df['description'].str.len() > 0].copy()\n",
    "\n",
    "# Initialize model\n",
    "model = SentenceTransformer('all-MiniLM-L6-v2')\n",
    "print(f\"Loaded {len(df_clean)} books\")\n"
   ]
  },
  {
   "cell_type": "code",
   "execution_count": 22,
   "id": "2de6989f",
   "metadata": {},
   "outputs": [
    {
     "name": "stdout",
     "output_type": "stream",
     "text": [
      "Generating embeddings...\n"
     ]
    },
    {
     "name": "stderr",
     "output_type": "stream",
     "text": [
      "Batches: 100%|██████████| 163/163 [01:36<00:00,  1.69it/s]"
     ]
    },
    {
     "name": "stdout",
     "output_type": "stream",
     "text": [
      "Embeddings shape: (5197, 384)\n"
     ]
    },
    {
     "name": "stderr",
     "output_type": "stream",
     "text": [
      "\n"
     ]
    }
   ],
   "source": [
    "descriptions = df_clean['description'].tolist()\n",
    "print(\"Generating embeddings...\")\n",
    "embeddings = model.encode(descriptions, show_progress_bar=True)\n",
    "\n",
    "# Normalize embeddings for cosine similarity\n",
    "embeddings_normalized = embeddings / np.linalg.norm(embeddings, axis=1, keepdims=True)\n",
    "\n",
    "print(f\"Embeddings shape: {embeddings.shape}\")\n"
   ]
  },
  {
   "cell_type": "code",
   "execution_count": 23,
   "id": "35c250a0",
   "metadata": {},
   "outputs": [
    {
     "name": "stdout",
     "output_type": "stream",
     "text": [
      "FAISS index created with 5197 vectors\n"
     ]
    }
   ],
   "source": [
    "# Create FAISS index\n",
    "dimension = embeddings.shape[1]\n",
    "index = faiss.IndexFlatIP(dimension)  # Inner Product for cosine similarity\n",
    "index.add(embeddings_normalized.astype('float32'))\n",
    "\n",
    "print(f\"FAISS index created with {index.ntotal} vectors\")"
   ]
  },
  {
   "cell_type": "code",
   "execution_count": 24,
   "id": "30818d6a",
   "metadata": {},
   "outputs": [
    {
     "name": "stdout",
     "output_type": "stream",
     "text": [
      "Metadata prepared for 5197 books\n"
     ]
    }
   ],
   "source": [
    "# Store metadata alongside FAISS index\n",
    "metadata = []\n",
    "for _, row in df_clean.iterrows():\n",
    "    meta = {\n",
    "        'isbn13': str(row['isbn13']),\n",
    "        'title': str(row.get('title', '')),\n",
    "        'authors': str(row.get('authors', '')),\n",
    "        'categories': str(row.get('categories', '')),\n",
    "        'description': str(row.get('description', '')),\n",
    "        'published_year': str(row.get('published_year', '')),\n",
    "        'average_rating': str(row.get('average_rating', '')),\n",
    "        'num_pages': str(row.get('num_pages', '')),\n",
    "        'ratings_count': str(row.get('ratings_count', ''))\n",
    "    }\n",
    "    metadata.append(meta)\n",
    "\n",
    "print(f\"Metadata prepared for {len(metadata)} books\")"
   ]
  },
  {
   "cell_type": "code",
   "execution_count": 25,
   "id": "993c650e",
   "metadata": {},
   "outputs": [
    {
     "name": "stdout",
     "output_type": "stream",
     "text": [
      "FAISS search database ready!\n"
     ]
    }
   ],
   "source": [
    "class BookSearchFAISS:\n",
    "    def __init__(self, index, metadata, model):\n",
    "        self.index = index\n",
    "        self.metadata = metadata\n",
    "        self.model = model\n",
    "    \n",
    "    def similarity_search(self, query: str, k: int = 10):\n",
    "        # Encode query\n",
    "        query_embedding = self.model.encode([query])\n",
    "        query_normalized = query_embedding / np.linalg.norm(query_embedding, axis=1, keepdims=True)\n",
    "        \n",
    "        # Search\n",
    "        scores, indices = self.index.search(query_normalized.astype('float32'), k)\n",
    "        \n",
    "        # Format results\n",
    "        docs = []\n",
    "        for i, idx in enumerate(indices[0]):\n",
    "            doc = self.metadata[idx].copy()\n",
    "            doc['similarity_score'] = float(scores[0][i])\n",
    "            docs.append(doc)\n",
    "        \n",
    "        return docs\n",
    "    \n",
    "    def print_results(self, docs, max_desc_len=150):\n",
    "        for i, doc in enumerate(docs, 1):\n",
    "            print(f\"{i}. 📚 {doc['title']}\")\n",
    "            print(f\"   👤 Authors: {doc['authors']}\")\n",
    "            print(f\"   🏷️  Category: {doc['categories']}\")\n",
    "            print(f\"   ⭐ Rating: {doc['average_rating']} | 📄 Pages: {doc['num_pages']}\")\n",
    "            \n",
    "            desc = doc['description']\n",
    "            if len(desc) > max_desc_len:\n",
    "                desc = desc[:max_desc_len] + \"...\"\n",
    "            print(f\"   📝 Description: {desc}\")\n",
    "            print(f\"   🎯 Similarity: {doc['similarity_score']:.4f}\")\n",
    "            print(f\"   🔢 ISBN13: {doc['isbn13']}\")\n",
    "            print(\"-\" * 80)\n",
    "\n",
    "# Initialize search\n",
    "db_books = BookSearchFAISS(index, metadata, model)\n",
    "print(\"FAISS search database ready!\")"
   ]
  },
  {
   "cell_type": "code",
   "execution_count": 26,
   "id": "6b84dcef",
   "metadata": {},
   "outputs": [
    {
     "name": "stdout",
     "output_type": "stream",
     "text": [
      "FAISS index and metadata saved to disk!\n"
     ]
    }
   ],
   "source": [
    "# Save FAISS index to disk\n",
    "faiss.write_index(index, \"book_faiss_index.index\")\n",
    "\n",
    "# Save metadata to disk (using JSON for readability)\n",
    "with open(\"book_metadata.json\", \"w\") as f:\n",
    "    json.dump(metadata, f, indent=4)\n",
    "\n",
    "print(\"FAISS index and metadata saved to disk!\")"
   ]
  },
  {
   "cell_type": "code",
   "execution_count": 27,
   "id": "fa45d567",
   "metadata": {},
   "outputs": [
    {
     "name": "stdout",
     "output_type": "stream",
     "text": [
      "Loaded FAISS index with 5197 vectors and 5197 metadata entries\n",
      "FAISS search database loaded and ready!\n"
     ]
    }
   ],
   "source": [
    "# Load FAISS index from disk\n",
    "index = faiss.read_index(\"book_faiss_index.index\")\n",
    "\n",
    "# Load metadata from disk\n",
    "with open(\"book_metadata.json\", \"r\") as f:\n",
    "    metadata = json.load(f)\n",
    "\n",
    "print(f\"Loaded FAISS index with {index.ntotal} vectors and {len(metadata)} metadata entries\")\n",
    "\n",
    "# Initialize model (still needed for encoding queries)\n",
    "model = SentenceTransformer('all-MiniLM-L6-v2')\n",
    "\n",
    "# Initialize search\n",
    "db_books = BookSearchFAISS(index, metadata, model)\n",
    "print(\"FAISS search database loaded and ready!\")"
   ]
  },
  {
   "cell_type": "code",
   "execution_count": 28,
   "id": "6be29927",
   "metadata": {},
   "outputs": [
    {
     "name": "stdout",
     "output_type": "stream",
     "text": [
      "🔍 FAISS Search results for: 'A book to teach children about nature'\n",
      "\n",
      "1. 📚 Baby Einstein: Neighborhood Animals\n",
      "   👤 Authors: Marilyn Singer;Julie Aigner-Clark\n",
      "   🏷️  Category: Juvenile Fiction\n",
      "   ⭐ Rating: 3.89 | 📄 Pages: 16.0\n",
      "   📝 Description: Children will discover the exciting world of their own backyard in this introduction to familiar animals from cats and dogs to bugs and frogs. The com...\n",
      "   🎯 Similarity: 0.5306\n",
      "   🔢 ISBN13: 9780786808069\n",
      "--------------------------------------------------------------------------------\n"
     ]
    }
   ],
   "source": [
    "query = \"A book to teach children about nature\"\n",
    "docs = db_books.similarity_search(query, k=1)\n",
    "\n",
    "print(f\"🔍 FAISS Search results for: '{query}'\\n\")\n",
    "db_books.print_results(docs)"
   ]
  }
 ],
 "metadata": {
  "kernelspec": {
   "display_name": "brenv",
   "language": "python",
   "name": "python3"
  },
  "language_info": {
   "codemirror_mode": {
    "name": "ipython",
    "version": 3
   },
   "file_extension": ".py",
   "mimetype": "text/x-python",
   "name": "python",
   "nbconvert_exporter": "python",
   "pygments_lexer": "ipython3",
   "version": "3.13.3"
  }
 },
 "nbformat": 4,
 "nbformat_minor": 5
}
